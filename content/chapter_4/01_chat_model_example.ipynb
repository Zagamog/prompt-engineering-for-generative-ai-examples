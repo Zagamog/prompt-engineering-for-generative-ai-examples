{
 "cells": [
  {
   "cell_type": "code",
   "execution_count": 4,
   "metadata": {},
   "outputs": [],
   "source": [
    "import asyncio\n",
    "from langchain_openai.chat_models import ChatOpenAI\n",
    "from langchain_core.messages import HumanMessage, SystemMessage\n",
    "from nest_asyncio import apply\n",
    "import os\n",
    "\n",
    "api_key=os.getenv(\"OPENAI_API_KEY\")\n",
    "\n",
    "apply()"
   ]
  },
  {
   "cell_type": "code",
   "execution_count": 17,
   "metadata": {},
   "outputs": [
    {
     "name": "stdout",
     "output_type": "stream",
     "text": [
      "Sure, here's a joke for you:\n",
      "\n",
      "Why did the tester go broke?\n",
      "\n",
      "Because he always paid for bugs!\n",
      "Me encanta la ingeniería de software.\n"
     ]
    }
   ],
   "source": [
    "chat = ChatOpenAI(temperature=0.1)\n",
    "messages = [\n",
    "    SystemMessage(content=\"Act as a senior software engineer at a startup company.\"),\n",
    "    HumanMessage(\n",
    "        content=\"Please can you provide a new funny joke about testers?\"\n",
    "    ),\n",
    "]\n",
    "\n",
    "response = chat.invoke(input=messages)\n",
    "print(response.content)\n",
    "\n",
    "text = \"Translate this sentence from English to Spanish. I love software engineering.\"\n",
    "response = chat.invoke(input=text)\n",
    "print(response.content)\n"
   ]
  },
  {
   "cell_type": "code",
   "execution_count": 18,
   "metadata": {},
   "outputs": [
    {
     "name": "stdout",
     "output_type": "stream",
     "text": [
      "Sure, here's a joke for you:\n",
      "\n",
      "Why did the tester go to the doctor?\n",
      "Because they had a bug that needed to be diagnosed!"
     ]
    }
   ],
   "source": [
    "# Streaming example:\n",
    "for chunk in chat.stream(messages):\n",
    "    print(chunk.content, end=\"\", flush=True)"
   ]
  },
  {
   "cell_type": "code",
   "execution_count": 19,
   "metadata": {},
   "outputs": [
    {
     "name": "stdout",
     "output_type": "stream",
     "text": [
      "[AIMessage(content=\"Sure, here's a joke for you:\\n\\nWhy did the tester go to the doctor?\\n\\nBecause they had a bug that needed to be diagnosed!\", response_metadata={'token_usage': {'completion_tokens': 29, 'prompt_tokens': 33, 'total_tokens': 62, 'completion_tokens_details': {'accepted_prediction_tokens': 0, 'audio_tokens': 0, 'reasoning_tokens': 0, 'rejected_prediction_tokens': 0}, 'prompt_tokens_details': {'audio_tokens': 0, 'cached_tokens': 0}}, 'model_name': 'gpt-3.5-turbo', 'system_fingerprint': None, 'finish_reason': 'stop', 'logprobs': None}, id='run-d49aeb34-296f-4511-abd4-01a4fcca88fd-0'), AIMessage(content=\"Sure, here's a joke for you:\\n\\nWhy did the tester go to the doctor?\\n\\nBecause they had a bug that needed to be diagnosed!\", response_metadata={'token_usage': {'completion_tokens': 29, 'prompt_tokens': 33, 'total_tokens': 62, 'completion_tokens_details': {'accepted_prediction_tokens': 0, 'audio_tokens': 0, 'reasoning_tokens': 0, 'rejected_prediction_tokens': 0}, 'prompt_tokens_details': {'audio_tokens': 0, 'cached_tokens': 0}}, 'model_name': 'gpt-3.5-turbo', 'system_fingerprint': None, 'finish_reason': 'stop', 'logprobs': None}, id='run-57ea39e6-7c1e-4976-9f42-2a81d79c1caf-0')]\n"
     ]
    }
   ],
   "source": [
    "# Calling multiple sets of messages at once with .generate() and .agenerate():\n",
    "synchronous_llm_result = chat.batch([messages, messages])\n",
    "print(synchronous_llm_result)\n",
    "\n",
    "# asynchronous_llm_result = asyncio.run(chat.abatch([messages, messages]))\n",
    "# print(asynchronous_llm_result)"
   ]
  },
  {
   "cell_type": "code",
   "execution_count": 20,
   "metadata": {},
   "outputs": [
    {
     "name": "stdout",
     "output_type": "stream",
     "text": [
      "[AIMessage(content=\"Sure, here's a joke for you:\\n\\nWhy did the tester go to the doctor?\\n\\nBecause they had a bug that needed to be diagnosed!\", response_metadata={'token_usage': {'completion_tokens': 29, 'prompt_tokens': 33, 'total_tokens': 62, 'completion_tokens_details': {'accepted_prediction_tokens': 0, 'audio_tokens': 0, 'reasoning_tokens': 0, 'rejected_prediction_tokens': 0}, 'prompt_tokens_details': {'audio_tokens': 0, 'cached_tokens': 0}}, 'model_name': 'gpt-3.5-turbo', 'system_fingerprint': None, 'finish_reason': 'stop', 'logprobs': None}, id='run-96c28eb0-ac00-42f1-a3ed-e1d41cf94868-0'), AIMessage(content=\"Sure, here's a joke for you:\\n\\nWhy did the tester go to the doctor?\\n\\nBecause they had a bug that needed to be diagnosed!\", response_metadata={'token_usage': {'completion_tokens': 29, 'prompt_tokens': 33, 'total_tokens': 62, 'completion_tokens_details': {'accepted_prediction_tokens': 0, 'audio_tokens': 0, 'reasoning_tokens': 0, 'rejected_prediction_tokens': 0}, 'prompt_tokens_details': {'audio_tokens': 0, 'cached_tokens': 0}}, 'model_name': 'gpt-3.5-turbo', 'system_fingerprint': None, 'finish_reason': 'stop', 'logprobs': None}, id='run-ec08c041-196a-4dc7-8533-bb5e9140a1d3-0')]\n"
     ]
    }
   ],
   "source": [
    "from langchain_core.runnables.config import RunnableConfig\n",
    "\n",
    "# Create a RunnableConfig with the desired concurrency limit\n",
    "config = RunnableConfig(max_concurrency=5)\n",
    "\n",
    "# Call the .batch() method with the inputs and config\n",
    "results = chat.batch([messages, messages], config=config)\n",
    "\n",
    "print(results)"
   ]
  },
  {
   "cell_type": "code",
   "execution_count": null,
   "metadata": {},
   "outputs": [],
   "source": []
  }
 ],
 "metadata": {
  "kernelspec": {
   "display_name": "Python 3 (Spyder)",
   "language": "python3",
   "name": "python3"
  },
  "language_info": {
   "codemirror_mode": {
    "name": "ipython",
    "version": 3
   },
   "file_extension": ".py",
   "mimetype": "text/x-python",
   "name": "python",
   "nbconvert_exporter": "python",
   "pygments_lexer": "ipython3",
   "version": "3.12.8"
  }
 },
 "nbformat": 4,
 "nbformat_minor": 4
}
